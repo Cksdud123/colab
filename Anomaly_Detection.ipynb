{
  "nbformat": 4,
  "nbformat_minor": 0,
  "metadata": {
    "colab": {
      "provenance": [],
      "gpuType": "T4",
      "authorship_tag": "ABX9TyO/zicp/eq1JUgPOj1piOwr",
      "include_colab_link": true
    },
    "kernelspec": {
      "name": "python3",
      "display_name": "Python 3"
    },
    "language_info": {
      "name": "python"
    },
    "accelerator": "GPU"
  },
  "cells": [
    {
      "cell_type": "markdown",
      "metadata": {
        "id": "view-in-github",
        "colab_type": "text"
      },
      "source": [
        "<a href=\"https://colab.research.google.com/github/Cksdud123/colab/blob/main/Anomaly_Detection.ipynb\" target=\"_parent\"><img src=\"https://colab.research.google.com/assets/colab-badge.svg\" alt=\"Open In Colab\"/></a>"
      ]
    },
    {
      "cell_type": "code",
      "execution_count": 1,
      "metadata": {
        "colab": {
          "base_uri": "https://localhost:8080/"
        },
        "id": "d9txvg8qHqg8",
        "outputId": "8d21964c-f592-496a-9d3f-65c0f49c35ff"
      },
      "outputs": [
        {
          "output_type": "stream",
          "name": "stdout",
          "text": [
            "Mounted at /content/drive\n"
          ]
        }
      ],
      "source": [
        "from google.colab import drive\n",
        "drive.mount('/content/drive')"
      ]
    },
    {
      "cell_type": "code",
      "source": [
        "import cv2\n",
        "import numpy as np\n",
        "from PIL import Image\n",
        "import glob\n",
        "import tensorflow as tf\n",
        "from tensorflow import keras\n",
        "from tensorflow.keras import layers\n",
        "import numpy as np\n",
        "import matplotlib.pyplot as plt\n",
        "from sklearn.model_selection import train_test_split"
      ],
      "metadata": {
        "id": "QleTQ3ilJm90"
      },
      "execution_count": 108,
      "outputs": []
    },
    {
      "cell_type": "code",
      "source": [
        "train_dir = glob.glob('/content/drive/MyDrive/Colab Notebooks/mvtec_anomaly_detection/bottle/train/good/*')\n",
        "test_dir = glob.glob('/content/drive/MyDrive/Colab Notebooks/mvtec_anomaly_detection/bottle/test/broken_large/*')"
      ],
      "metadata": {
        "id": "PDuMwtPDIeFt"
      },
      "execution_count": 50,
      "outputs": []
    },
    {
      "cell_type": "code",
      "source": [
        "train_images = []\n",
        "train_labels = []\n",
        "test_images = []\n",
        "test_labels = []\n",
        "target_size = (100, 100)"
      ],
      "metadata": {
        "id": "5_rt4czDPzj6"
      },
      "execution_count": 82,
      "outputs": []
    },
    {
      "cell_type": "code",
      "source": [
        "# 데이터셋 내의 모든 이미지 파일에 대해 resize 작업과 픽셀 값 정규화 작업\n",
        "# 이미지 로드 및 리사이징\n",
        "for img_path in train_dir:\n",
        "    img = Image.open(img_path)\n",
        "    rgb_img = img.convert('RGB')\n",
        "    resized_img = rgb_img.resize(target_size)\n",
        "    img_array = np.array(resized_img)\n",
        "    min_value = img_array.min()\n",
        "    max_value = img_array.max()\n",
        "    normalized_img_array = (img_array - min_value) / (max_value - min_value)\n",
        "    train_images.append(normalized_img_array)\n",
        "    train_labels.append(0)"
      ],
      "metadata": {
        "id": "nVDMPO-_JTaV"
      },
      "execution_count": 83,
      "outputs": []
    },
    {
      "cell_type": "code",
      "source": [
        "for img_path in test_dir:\n",
        "    img = Image.open(img_path)\n",
        "    rgb_img = img.convert('RGB')\n",
        "    resized_img = rgb_img.resize(target_size)\n",
        "    min_value = img_array.min()\n",
        "    max_value = img_array.max()\n",
        "    normalized_img_array = (img_array - min_value) / (max_value - min_value)\n",
        "    test_images.append(normalized_img_array)\n",
        "    test_labels.append(1)"
      ],
      "metadata": {
        "id": "6g-8TXP4WZn1"
      },
      "execution_count": 84,
      "outputs": []
    },
    {
      "cell_type": "code",
      "source": [
        "# 첫 번째 이미지 시각화 및 resizing이 제대로 되었는지 확인\n",
        "plt.imshow(train_images[0])\n",
        "plt.axis('off')\n",
        "plt.show()\n",
        "\n",
        "first_image_size = train_images[0].shape\n",
        "print(\"첫 번째 이미지의 크기:\", first_image_size)"
      ],
      "metadata": {
        "colab": {
          "base_uri": "https://localhost:8080/",
          "height": 424
        },
        "id": "J4Kd_yYUZxzz",
        "outputId": "9153f960-3f1c-4f8a-f725-ba006dbad8d1"
      },
      "execution_count": 85,
      "outputs": [
        {
          "output_type": "display_data",
          "data": {
            "text/plain": [
              "<Figure size 640x480 with 1 Axes>"
            ],
            "image/png": "[encoded data removed]"
          },
          "metadata": {}
        },
        {
          "output_type": "stream",
          "name": "stdout",
          "text": [
            "첫 번째 이미지의 크기: (100, 100, 3)\n"
          ]
        }
      ]
    },
    {
      "cell_type": "code",
      "source": [
        "# 정상과 비정상 데이터를 합친 전체 데이터셋\n",
        "all_images = train_images + test_images\n",
        "all_labels = train_labels + test_labels\n",
        "\n",
        "# 데이터를 훈련 세트와 검증 세트로 분리\n",
        "train_images, val_images, train_labels, val_labels = train_test_split(all_images,\n",
        "                                                                      all_labels,\n",
        "                                                                      test_size=0.2,\n",
        "                                                                      random_state=42)"
      ],
      "metadata": {
        "id": "ux1_Y2_Oh7Ij"
      },
      "execution_count": 86,
      "outputs": []
    },
    {
      "cell_type": "code",
      "source": [
        "# 합성곱 신경망 모델\n",
        "model = keras.Sequential()\n",
        "model.add(keras.layers.Conv2D(32, kernel_size=3, activation='relu',\n",
        "                              padding='same', input_shape=(100,100,3)))\n",
        "model.add(keras.layers.MaxPooling2D(2))\n",
        "model.add(keras.layers.Conv2D(64, kernel_size=(3,3), activation='relu',\n",
        "                              padding='same'))\n",
        "model.add(keras.layers.MaxPooling2D(2))\n",
        "model.add(keras.layers.Flatten())\n",
        "model.add(keras.layers.Dense(100, activation='relu'))\n",
        "model.add(keras.layers.Dropout(0.2))\n",
        "model.add(keras.layers.Dense(10, activation='softmax'))"
      ],
      "metadata": {
        "id": "9occsJLTmoDk"
      },
      "execution_count": 103,
      "outputs": []
    },
    {
      "cell_type": "code",
      "source": [
        "model.compile(optimizer='adam',\n",
        "              loss=tf.keras.losses.SparseCategoricalCrossentropy(from_logits=True),\n",
        "              metrics=['accuracy'])\n",
        "\n",
        "model.summary()"
      ],
      "metadata": {
        "colab": {
          "base_uri": "https://localhost:8080/"
        },
        "id": "F7W-2pqbm0e4",
        "outputId": "ab3c8b9b-3be1-4b60-c99a-1b3dec5367ff"
      },
      "execution_count": 104,
      "outputs": [
        {
          "output_type": "stream",
          "name": "stdout",
          "text": [
            "Model: \"sequential_7\"\n",
            "_________________________________________________________________\n",
            " Layer (type)                Output Shape              Param #   \n",
            "=================================================================\n",
            " conv2d_18 (Conv2D)          (None, 100, 100, 32)      896       \n",
            "                                                                 \n",
            " max_pooling2d_17 (MaxPoolin  (None, 50, 50, 32)       0         \n",
            " g2D)                                                            \n",
            "                                                                 \n",
            " conv2d_19 (Conv2D)          (None, 50, 50, 64)        18496     \n",
            "                                                                 \n",
            " max_pooling2d_18 (MaxPoolin  (None, 25, 25, 64)       0         \n",
            " g2D)                                                            \n",
            "                                                                 \n",
            " flatten_8 (Flatten)         (None, 40000)             0         \n",
            "                                                                 \n",
            " dense_15 (Dense)            (None, 100)               4000100   \n",
            "                                                                 \n",
            " dropout_6 (Dropout)         (None, 100)               0         \n",
            "                                                                 \n",
            " dense_16 (Dense)            (None, 10)                1010      \n",
            "                                                                 \n",
            "=================================================================\n",
            "Total params: 4,020,502\n",
            "Trainable params: 4,020,502\n",
            "Non-trainable params: 0\n",
            "_________________________________________________________________\n"
          ]
        }
      ]
    },
    {
      "cell_type": "code",
      "source": [
        "# numpy배열로 변환\n",
        "train_images = np.array(train_images)\n",
        "val_images = np.array(val_images)\n",
        "train_labels = np.array(train_labels)\n",
        "val_labels = np.array(val_labels)\n",
        "test_images = np.array(test_images)\n",
        "test_labels = np.array(test_labels)"
      ],
      "metadata": {
        "id": "h3gZzaASo9l9"
      },
      "execution_count": 110,
      "outputs": []
    },
    {
      "cell_type": "code",
      "source": [
        "# 모델 훈련하기\n",
        "epochs = 30\n",
        "model.fit(train_images, train_labels, epochs=epochs, validation_split=0.2)"
      ],
      "metadata": {
        "colab": {
          "base_uri": "https://localhost:8080/"
        },
        "id": "iDjddH94oEQ9",
        "outputId": "5c7e9733-892f-45b1-e92e-f9c700eee31f"
      },
      "execution_count": 113,
      "outputs": [
        {
          "output_type": "stream",
          "name": "stdout",
          "text": [
            "Epoch 1/30\n",
            "5/5 [==============================] - 0s 40ms/step - loss: 0.0221 - accuracy: 0.9932 - val_loss: 0.0217 - val_accuracy: 1.0000\n",
            "Epoch 2/30\n",
            "5/5 [==============================] - 0s 29ms/step - loss: 0.0208 - accuracy: 0.9932 - val_loss: 0.0191 - val_accuracy: 1.0000\n",
            "Epoch 3/30\n",
            "5/5 [==============================] - 0s 29ms/step - loss: 0.0305 - accuracy: 0.9932 - val_loss: 0.0099 - val_accuracy: 1.0000\n",
            "Epoch 4/30\n",
            "5/5 [==============================] - 0s 25ms/step - loss: 0.0323 - accuracy: 0.9863 - val_loss: 0.0087 - val_accuracy: 1.0000\n",
            "Epoch 5/30\n",
            "5/5 [==============================] - 0s 28ms/step - loss: 0.0291 - accuracy: 0.9932 - val_loss: 0.0139 - val_accuracy: 1.0000\n",
            "Epoch 6/30\n",
            "5/5 [==============================] - 0s 28ms/step - loss: 0.0409 - accuracy: 0.9863 - val_loss: 0.0098 - val_accuracy: 1.0000\n",
            "Epoch 7/30\n",
            "5/5 [==============================] - 0s 28ms/step - loss: 0.0242 - accuracy: 0.9863 - val_loss: 0.0126 - val_accuracy: 1.0000\n",
            "Epoch 8/30\n",
            "5/5 [==============================] - 0s 24ms/step - loss: 0.0345 - accuracy: 0.9863 - val_loss: 0.0100 - val_accuracy: 1.0000\n",
            "Epoch 9/30\n",
            "5/5 [==============================] - 0s 22ms/step - loss: 0.0295 - accuracy: 0.9932 - val_loss: 0.0175 - val_accuracy: 1.0000\n",
            "Epoch 10/30\n",
            "5/5 [==============================] - 0s 24ms/step - loss: 0.0260 - accuracy: 0.9863 - val_loss: 0.0153 - val_accuracy: 1.0000\n",
            "Epoch 11/30\n",
            "5/5 [==============================] - 0s 20ms/step - loss: 0.0220 - accuracy: 0.9932 - val_loss: 0.0054 - val_accuracy: 1.0000\n",
            "Epoch 12/30\n",
            "5/5 [==============================] - 0s 21ms/step - loss: 0.0358 - accuracy: 0.9932 - val_loss: 0.0061 - val_accuracy: 1.0000\n",
            "Epoch 13/30\n",
            "5/5 [==============================] - 0s 22ms/step - loss: 0.0328 - accuracy: 0.9932 - val_loss: 0.0238 - val_accuracy: 1.0000\n",
            "Epoch 14/30\n",
            "5/5 [==============================] - 0s 22ms/step - loss: 0.0236 - accuracy: 0.9932 - val_loss: 0.0282 - val_accuracy: 1.0000\n",
            "Epoch 15/30\n",
            "5/5 [==============================] - 0s 22ms/step - loss: 0.0329 - accuracy: 0.9932 - val_loss: 0.0179 - val_accuracy: 1.0000\n",
            "Epoch 16/30\n",
            "5/5 [==============================] - 0s 21ms/step - loss: 0.0300 - accuracy: 0.9863 - val_loss: 0.0060 - val_accuracy: 1.0000\n",
            "Epoch 17/30\n",
            "5/5 [==============================] - 0s 22ms/step - loss: 0.0458 - accuracy: 0.9863 - val_loss: 0.0076 - val_accuracy: 1.0000\n",
            "Epoch 18/30\n",
            "5/5 [==============================] - 0s 22ms/step - loss: 0.0192 - accuracy: 0.9932 - val_loss: 0.0138 - val_accuracy: 1.0000\n",
            "Epoch 19/30\n",
            "5/5 [==============================] - 0s 22ms/step - loss: 0.0448 - accuracy: 0.9795 - val_loss: 0.0325 - val_accuracy: 1.0000\n",
            "Epoch 20/30\n",
            "5/5 [==============================] - 0s 19ms/step - loss: 0.0292 - accuracy: 0.9932 - val_loss: 0.0093 - val_accuracy: 1.0000\n",
            "Epoch 21/30\n",
            "5/5 [==============================] - 0s 19ms/step - loss: 0.0269 - accuracy: 0.9932 - val_loss: 0.0098 - val_accuracy: 1.0000\n",
            "Epoch 22/30\n",
            "5/5 [==============================] - 0s 18ms/step - loss: 0.0364 - accuracy: 0.9932 - val_loss: 0.0197 - val_accuracy: 1.0000\n",
            "Epoch 23/30\n",
            "5/5 [==============================] - 0s 21ms/step - loss: 0.0362 - accuracy: 0.9863 - val_loss: 0.0147 - val_accuracy: 1.0000\n",
            "Epoch 24/30\n",
            "5/5 [==============================] - 0s 21ms/step - loss: 0.0299 - accuracy: 0.9863 - val_loss: 0.0107 - val_accuracy: 1.0000\n",
            "Epoch 25/30\n",
            "5/5 [==============================] - 0s 20ms/step - loss: 0.0232 - accuracy: 0.9932 - val_loss: 0.0098 - val_accuracy: 1.0000\n",
            "Epoch 26/30\n",
            "5/5 [==============================] - 0s 19ms/step - loss: 0.0276 - accuracy: 0.9932 - val_loss: 0.0125 - val_accuracy: 1.0000\n",
            "Epoch 27/30\n",
            "5/5 [==============================] - 0s 21ms/step - loss: 0.0313 - accuracy: 0.9932 - val_loss: 0.0147 - val_accuracy: 1.0000\n",
            "Epoch 28/30\n",
            "5/5 [==============================] - 0s 18ms/step - loss: 0.0387 - accuracy: 0.9863 - val_loss: 0.0082 - val_accuracy: 1.0000\n",
            "Epoch 29/30\n",
            "5/5 [==============================] - 0s 22ms/step - loss: 0.0268 - accuracy: 0.9932 - val_loss: 0.0177 - val_accuracy: 1.0000\n",
            "Epoch 30/30\n",
            "5/5 [==============================] - 0s 18ms/step - loss: 0.0413 - accuracy: 0.9932 - val_loss: 0.0370 - val_accuracy: 1.0000\n"
          ]
        },
        {
          "output_type": "execute_result",
          "data": {
            "text/plain": [
              "<keras.callbacks.History at 0x7c74b5529b40>"
            ]
          },
          "metadata": {},
          "execution_count": 113
        }
      ]
    },
    {
      "cell_type": "code",
      "source": [
        "# 테스트 데이터를 사용하여 모델 평가\n",
        "test_loss, test_accuracy = model.evaluate(test_images, test_labels)\n",
        "\n",
        "print(\"Test Loss:\", test_loss)\n",
        "print(\"Test Accuracy:\", test_accuracy)"
      ],
      "metadata": {
        "colab": {
          "base_uri": "https://localhost:8080/"
        },
        "id": "NuWKUiBup0zk",
        "outputId": "d56cfac6-02ef-4903-903e-68a325ad1840"
      },
      "execution_count": 112,
      "outputs": [
        {
          "output_type": "stream",
          "name": "stdout",
          "text": [
            "1/1 [==============================] - 0s 133ms/step - loss: 0.0861 - accuracy: 1.0000\n",
            "Test Loss: 0.08606375753879547\n",
            "Test Accuracy: 1.0\n"
          ]
        }
      ]
    }
  ]
}